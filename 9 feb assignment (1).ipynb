{
 "cells": [
  {
   "cell_type": "markdown",
   "id": "60818b71-fc96-4cac-8908-9d0660b41a23",
   "metadata": {},
   "source": [
    "1, Create a vehicle class with an init method having instance variables as name_of_vehicle, max_speed and average_of_vehicle. \n"
   ]
  },
  {
   "cell_type": "code",
   "execution_count": 1,
   "id": "61f2c1d3-fedc-49b8-af24-19aa3ec87a56",
   "metadata": {},
   "outputs": [],
   "source": [
    "class vehical:\n",
    "    def __init__(self,name_of_vehicle,max_speed,average_of_vehicle):\n",
    "        \n",
    "        self.name_of_vehicle=name_of_vehicle\n",
    "        self.max_speed=max_speed\n",
    "        self.average_of_vehicle=average_of_vehicle\n",
    "        \n",
    "        def _vehical_details(self):\n",
    "            return self.name_of_vehicle,self.max_speed,self.avearge_of_vehicle"
   ]
  },
  {
   "cell_type": "code",
   "execution_count": 3,
   "id": "d22a0f97-77a0-4d25-bebb-068f25de9950",
   "metadata": {},
   "outputs": [],
   "source": [
    "ram=vehical(\"bullet\",42,50000)"
   ]
  },
  {
   "cell_type": "code",
   "execution_count": 4,
   "id": "29faf009-7526-4eac-8405-1214dc284666",
   "metadata": {},
   "outputs": [
    {
     "data": {
      "text/plain": [
       "42"
      ]
     },
     "execution_count": 4,
     "metadata": {},
     "output_type": "execute_result"
    }
   ],
   "source": [
    "ram.max_speed"
   ]
  },
  {
   "cell_type": "code",
   "execution_count": 5,
   "id": "ad98bc8b-f39c-413a-a0a2-e6545bb74ee8",
   "metadata": {},
   "outputs": [
    {
     "data": {
      "text/plain": [
       "'bullet'"
      ]
     },
     "execution_count": 5,
     "metadata": {},
     "output_type": "execute_result"
    }
   ],
   "source": [
    "ram.name_of_vehicle\n",
    "\n"
   ]
  },
  {
   "cell_type": "code",
   "execution_count": 6,
   "id": "89dd0130-4381-43f6-bf69-5ff31bd04c67",
   "metadata": {},
   "outputs": [
    {
     "data": {
      "text/plain": [
       "50000"
      ]
     },
     "execution_count": 6,
     "metadata": {},
     "output_type": "execute_result"
    }
   ],
   "source": [
    "ram.average_of_vehicle"
   ]
  },
  {
   "cell_type": "markdown",
   "id": "3b009ad3-7888-4042-b9fd-c55b31912bb1",
   "metadata": {},
   "source": [
    "Q2.  Create a child class car from the vehicle class created in Que 1, which will inherit the vehicle class. Create a method named seating_capacity which takes capacity as an argument and returns the name of the vehicle and its seating capacity.\n"
   ]
  },
  {
   "cell_type": "code",
   "execution_count": null,
   "id": "823af583-d86c-4e2d-99c9-7d2d858b01a7",
   "metadata": {},
   "outputs": [],
   "source": [
    "class vehical:\n",
    "    \n",
    "    def __init__(self,name_of_vehicle,max_speed,average_of_vehicle):\n",
    "        \n",
    "        self.name_of_vehicle=name_of_vehicle\n",
    "        self.max_speed=max_speed\n",
    "        self.average_of_vehicle=average_of_vehicle\n",
    "        \n",
    "        def _vehical_details(self):\n",
    "            return self.name_of_vehicle,self.max_speed,self.avearge_of_vehicle\n",
    "\n",
    "        \n",
    "\n",
    "    "
   ]
  },
  {
   "cell_type": "code",
   "execution_count": 18,
   "id": "7e93335b-9909-4bb2-92ff-238039f4b8df",
   "metadata": {},
   "outputs": [],
   "source": [
    "class car(vehical):\n",
    "    def test_car(self):\n",
    "        print(\"quality is good with seating capacity is also good\")\n",
    "       \n",
    "    \n",
    "     "
   ]
  },
  {
   "cell_type": "code",
   "execution_count": 19,
   "id": "ecc1a32b-1202-46b5-b561-f7dc736b009c",
   "metadata": {},
   "outputs": [],
   "source": [
    "a=car"
   ]
  },
  {
   "cell_type": "code",
   "execution_count": 24,
   "id": "617c79cf-9dc5-478c-ab20-382f231ace9b",
   "metadata": {},
   "outputs": [],
   "source": [
    "b=vehical(\"bullet\",87,456)\n"
   ]
  },
  {
   "cell_type": "code",
   "execution_count": 25,
   "id": "9f799a62-1182-468c-9ca7-db22130415ef",
   "metadata": {},
   "outputs": [
    {
     "data": {
      "text/plain": [
       "87"
      ]
     },
     "execution_count": 25,
     "metadata": {},
     "output_type": "execute_result"
    }
   ],
   "source": [
    "b.max_speed\n"
   ]
  },
  {
   "cell_type": "code",
   "execution_count": 26,
   "id": "237c6b50-eb0d-4ab6-b3bc-3c4b00f2599d",
   "metadata": {},
   "outputs": [
    {
     "name": "stdout",
     "output_type": "stream",
     "text": [
      "quality is good with seating capacity is also good\n"
     ]
    }
   ],
   "source": [
    "a.test_car(vehical)"
   ]
  },
  {
   "cell_type": "markdown",
   "id": "51230904-50b4-4d20-89fa-90825f406d73",
   "metadata": {},
   "source": [
    "Q3. What is multiple inheritance? Write a python code to demonstrate multiple inheritance.\n",
    "\n",
    "It is a type of inheritance which is used to inhertant the code, suppose we have to 3 class and 1 class and 2 class is able to inheritant with 3 at same time is called the multiple inheritance."
   ]
  },
  {
   "cell_type": "code",
   "execution_count": 33,
   "id": "1a1b6869-1183-4648-a89a-3147983ccb12",
   "metadata": {},
   "outputs": [],
   "source": [
    "#example \n",
    "\n",
    "class class1:\n",
    "    def test_class1(self):\n",
    "        print(\"this is my first class\")\n",
    "    \n",
    "\n",
    "    "
   ]
  },
  {
   "cell_type": "code",
   "execution_count": null,
   "id": "ac543408-58a4-423b-b7ea-eb87e4dac526",
   "metadata": {},
   "outputs": [],
   "source": [
    " class class2:\n",
    "    def test_class2(self):\n",
    "        print(\"this is my second class\")\n",
    "    \n"
   ]
  },
  {
   "cell_type": "code",
   "execution_count": 34,
   "id": "e8633939-449b-4099-939f-2697cbcc472a",
   "metadata": {},
   "outputs": [],
   "source": [
    "class class3(class1,class2):\n",
    "    pass\n",
    "        "
   ]
  },
  {
   "cell_type": "code",
   "execution_count": 35,
   "id": "57514132-4e69-4b6a-9b01-179d0abadb83",
   "metadata": {},
   "outputs": [],
   "source": [
    "obj_class3=class3()"
   ]
  },
  {
   "cell_type": "code",
   "execution_count": 36,
   "id": "7787eda1-526d-4753-8b50-26fc9e98a5da",
   "metadata": {},
   "outputs": [
    {
     "name": "stdout",
     "output_type": "stream",
     "text": [
      "this is my first class\n"
     ]
    }
   ],
   "source": [
    "obj_class3.test_class1()\n"
   ]
  },
  {
   "cell_type": "code",
   "execution_count": 37,
   "id": "62c0da73-11c7-4fcd-a5d5-e0839ec4eedc",
   "metadata": {},
   "outputs": [
    {
     "name": "stdout",
     "output_type": "stream",
     "text": [
      "this is my second class\n"
     ]
    }
   ],
   "source": [
    "obj_class3.test_class2()\n"
   ]
  },
  {
   "cell_type": "markdown",
   "id": "8bc36322-d611-4679-b978-6819e7ffbc51",
   "metadata": {},
   "source": [
    "4.What are getter and setter in python? Create a class and create a getter and a setter method in this class.\n",
    "\n",
    " the main purpose of using getters and setters in object-oriented programs is to ensure data encapsulation. Private variables in python are not actually hidden fields like in other object oriented languages. Getters and Setters in python are often used when:\n",
    "\n",
    "We use getters & setters to add validation logic around getting and setting a value.\n",
    "To avoid direct access of a class field i.e. private variables cannot be accessed directly or modified by external user.ho\n"
   ]
  },
  {
   "cell_type": "code",
   "execution_count": 38,
   "id": "1cda069c-61b2-4b25-b17d-b476164c38b4",
   "metadata": {},
   "outputs": [],
   "source": [
    "#example\n",
    "\n",
    "class P:\n",
    "    def __init__(self, x):\n",
    "        self.__x = x\n",
    "    def get_x(self):\n",
    "        return self.__x\n",
    "    def set_x(self, x):\n",
    "        self.__x = x"
   ]
  },
  {
   "cell_type": "code",
   "execution_count": 40,
   "id": "94e4552d-2b67-4d23-85b1-c4aa5b5372ba",
   "metadata": {},
   "outputs": [],
   "source": [
    "a=P(\"jai_shree_ram\")"
   ]
  },
  {
   "cell_type": "markdown",
   "id": "f5db0bac-1096-43f3-99af-cccdbd2f3d5c",
   "metadata": {},
   "source": [
    "Q5.What is method overriding in python? Write a python code to demonstrate method overriding.\n",
    "\n",
    "Method Overriding in Python is an OOPs concept closely related to inheritance. When a child class method overrides(or, provides it's own implementation) the parent class method of the same name, parameters and return type, it is known as method overriding.\n"
   ]
  },
  {
   "cell_type": "code",
   "execution_count": 50,
   "id": "bbe456f9-40bd-4d55-bf18-38399760dfda",
   "metadata": {},
   "outputs": [
    {
     "name": "stdout",
     "output_type": "stream",
     "text": [
      "Function defined in parent class!\n"
     ]
    }
   ],
   "source": [
    "# parent class\n",
    "class Parent:\n",
    "    # some random function\n",
    "    def anything(self):\n",
    "        print('Function defined in parent class!')\n",
    "        \n",
    "# child class\n",
    "class Child(Parent):\n",
    "    # empty class definition\n",
    "    pass\n",
    "                                            #taking help of google\n",
    "\n",
    "obj2 = Child()\n",
    "obj2.anything()\n",
    "\n"
   ]
  },
  {
   "cell_type": "code",
   "execution_count": null,
   "id": "b92c57f4-50cb-4cd7-950f-d869776746f9",
   "metadata": {},
   "outputs": [],
   "source": []
  }
 ],
 "metadata": {
  "kernelspec": {
   "display_name": "Python 3 (ipykernel)",
   "language": "python",
   "name": "python3"
  },
  "language_info": {
   "codemirror_mode": {
    "name": "ipython",
    "version": 3
   },
   "file_extension": ".py",
   "mimetype": "text/x-python",
   "name": "python",
   "nbconvert_exporter": "python",
   "pygments_lexer": "ipython3",
   "version": "3.10.8"
  }
 },
 "nbformat": 4,
 "nbformat_minor": 5
}
